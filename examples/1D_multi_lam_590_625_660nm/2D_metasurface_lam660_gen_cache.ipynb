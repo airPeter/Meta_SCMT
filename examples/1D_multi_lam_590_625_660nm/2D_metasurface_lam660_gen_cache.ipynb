{
 "cells": [
  {
   "cell_type": "code",
   "execution_count": 3,
   "metadata": {},
   "outputs": [],
   "source": [
    "import sys\n",
    "module_path = 'C:/Users/94735/OneDrive - UW-Madison/My Projects/CMT_and_inverse_design/Meta_SCMT'\n",
    "sys.path.insert(1, module_path)\n",
    "import Meta_SCMT\n",
    "import numpy as np\n",
    "import matplotlib.pyplot as plt"
   ]
  },
  {
   "cell_type": "code",
   "execution_count": 4,
   "metadata": {},
   "outputs": [
    {
     "name": "stdout",
     "output_type": "stream",
     "text": [
      "If dowmsample_ratio changed, if only need to rerun fitting E.\n",
      "It is ok to change n_sub, which is decoupled with the cached data.\n"
     ]
    }
   ],
   "source": [
    "GP = {\n",
    "    'dim' : 1, #dim : 1 or 2.\n",
    "    'modes' : 1, #number of modes with in a single waveguide. modes <= 2 is usually good enough.\n",
    "    'period' : 0.28,\n",
    "    'res' : 20, #resolution within one period\n",
    "    'downsample_ratio': 1, #between (0, 1] for the output periodic resolution, it will be int(round(downsample_ratio * res))\n",
    "    'wh' : 0.6, #waveguide height\n",
    "    'lam' : 0.66,\n",
    "    'n_sub' : 1.46, #the refractive index of substrate.\n",
    "    'n_wg' : 2.4,# the refractive index of waveguide\n",
    "    'h_min' : 0.06, #h_min, and h_max define the range of the width of waveguide.\n",
    "    'h_max' : 0.27,\n",
    "    'dh' : 0.01, #the step size of h.\n",
    "    'path' : \"sim_cache_660nm/\", #the inter state store path            \n",
    "}\n",
    "sim = Meta_SCMT.Sim(**GP)"
   ]
  },
  {
   "cell_type": "markdown",
   "metadata": {},
   "source": [
    "# From step 1 to step 3, you parpare the data and model you need to build a SCMT model. Once done, the cache data is stored in \"sim_cache_1D\" directory. When you need to run or build your model agian, you just load the data from cache."
   ]
  },
  {
   "cell_type": "markdown",
   "metadata": {},
   "source": [
    "# step1 generate modes"
   ]
  },
  {
   "cell_type": "markdown",
   "metadata": {},
   "source": [
    "# it's ok to see warning like invalid value encountered in sqrt. This is because when using fsolve function, it can feed bad bata in function. This won't influence the final results."
   ]
  },
  {
   "cell_type": "code",
   "execution_count": 5,
   "metadata": {},
   "outputs": [
    {
     "name": "stdout",
     "output_type": "stream",
     "text": [
      "modes lib load sucessed.\n",
      "total keys:  23\n",
      "number of non zero modes:  [23.]\n"
     ]
    }
   ],
   "source": [
    "sim.gen_modes.gen(load = True)\n",
    "sim.gen_modes.count_modes()"
   ]
  },
  {
   "cell_type": "markdown",
   "metadata": {},
   "source": [
    "# step 1.1 check correctness of the generated modes."
   ]
  },
  {
   "cell_type": "code",
   "execution_count": null,
   "metadata": {},
   "outputs": [],
   "source": [
    "sim.gen_modes.vis_neffs()"
   ]
  },
  {
   "cell_type": "code",
   "execution_count": null,
   "metadata": {},
   "outputs": [],
   "source": [
    "# randomly visualize some generated modes.\n",
    "H = [0.08, 0.2, 0.27]\n",
    "sim.gen_modes.vis_field(H)"
   ]
  },
  {
   "cell_type": "markdown",
   "metadata": {},
   "source": [
    "# step 2, fit a function (the fully connected network) to output the effective refractive index given a width of waveguide. this function will be used in the SCMT model. (The solid line represent the original data, dashed line represent the function output).\n",
    "# after the fitting the data will be saved in the \"sim_cache...\" directory. "
   ]
  },
  {
   "cell_type": "code",
   "execution_count": null,
   "metadata": {},
   "outputs": [],
   "source": [
    "sim.fitting_neffs.fit(vis=True, layers = 4, nodes = 128)"
   ]
  },
  {
   "cell_type": "markdown",
   "metadata": {},
   "source": [
    "# step 2.1 check the correctness of fitting."
   ]
  },
  {
   "cell_type": "code",
   "execution_count": null,
   "metadata": {},
   "outputs": [],
   "source": [
    "neffs = sim.fitting_neffs.apply(H)\n",
    "print(neffs)"
   ]
  },
  {
   "cell_type": "markdown",
   "metadata": {},
   "source": [
    "# step 3.1 fit a function that given the widths and the distance between two waveguides i and j, output the coupling efficient Cij for the combination of all modes. \n",
    "# Eg: fit_c(hi, hj, dis) -> [cij_00, cij_01, cij_10, cij_11] if you have two modes per waveguide."
   ]
  },
  {
   "cell_type": "code",
   "execution_count": null,
   "metadata": {
    "scrolled": false
   },
   "outputs": [],
   "source": [
    "sim.fftting_C.fit(load = False, vis=True, steps = 10000, nodes = 128, layers = 6)"
   ]
  },
  {
   "cell_type": "markdown",
   "metadata": {},
   "source": [
    "# the max(C_ij) indicate how strong your system's coupling is. the sweet point is below 0.5 but above 0.1, based on experience."
   ]
  },
  {
   "cell_type": "markdown",
   "metadata": {},
   "source": [
    "# step 3.2 fit a function that given the width of the waveguide, output the Ey field for each mode."
   ]
  },
  {
   "cell_type": "code",
   "execution_count": null,
   "metadata": {},
   "outputs": [],
   "source": [
    "#randomly select 3 modes to visualize\n",
    "sim.fftting_E.fit(vis=True, nodes = 128, layers = 6)"
   ]
  },
  {
   "cell_type": "markdown",
   "metadata": {},
   "source": [
    "# step 3.3 fitting K, this is similiar to fit C"
   ]
  },
  {
   "cell_type": "code",
   "execution_count": null,
   "metadata": {},
   "outputs": [],
   "source": [
    "sim.fftting_K.fit(load = False, vis=True, nodes = 128,layers = 6, steps = 30000)"
   ]
  },
  {
   "cell_type": "markdown",
   "metadata": {},
   "source": [
    "# step 4 run a forward simulation."
   ]
  },
  {
   "cell_type": "code",
   "execution_count": null,
   "metadata": {},
   "outputs": [],
   "source": [
    "N = 3\n",
    "#the widths of waveguides.\n",
    "wgs = np.array([0.08, 0.15, 0.27])\n",
    "prop_dis = 0.25 * N * GP['period']\n",
    "#near field. the field at the exit of the waveguides.\n",
    "sim.scmt.init_model(N, prop_dis, COUPLING = True, init_hs= wgs, far_field= False)\n",
    "E_out =sim.scmt.forward()\n",
    "sim.scmt.vis_field(E_out)"
   ]
  },
  {
   "cell_type": "code",
   "execution_count": null,
   "metadata": {},
   "outputs": [],
   "source": [
    "#far field, the field propagates a distance in free space.\n",
    "sim.scmt.init_model(N, prop_dis, COUPLING = True, init_hs= wgs, far_field= True)\n",
    "E_out =sim.scmt.forward()\n",
    "sim.scmt.vis_field(E_out)"
   ]
  },
  {
   "cell_type": "markdown",
   "metadata": {},
   "source": [
    "# if no coupling: quite different from the scmt case, which indicate the coupling is important in this case."
   ]
  },
  {
   "cell_type": "code",
   "execution_count": null,
   "metadata": {},
   "outputs": [],
   "source": [
    "N = 3\n",
    "#the widths of waveguides.\n",
    "wgs = np.array([0.08, 0.15, 0.27])\n",
    "prop_dis = 0.25 * N * GP['period']\n",
    "#near field. the field at the exit of the waveguides.\n",
    "sim.scmt.init_model(N, prop_dis, COUPLING = False, init_hs= wgs, far_field= False)\n",
    "E_out =sim.scmt.forward()\n",
    "sim.scmt.vis_field(E_out)"
   ]
  },
  {
   "cell_type": "markdown",
   "metadata": {},
   "source": [
    "# step 4.1 we do a fullwave simulation using Tidy3d to validate our forward process."
   ]
  },
  {
   "cell_type": "code",
   "execution_count": 6,
   "metadata": {},
   "outputs": [
    {
     "ename": "NameError",
     "evalue": "name 'prop_dis' is not defined",
     "output_type": "error",
     "traceback": [
      "\u001b[1;31m---------------------------------------------------------------------------\u001b[0m",
      "\u001b[1;31mNameError\u001b[0m                                 Traceback (most recent call last)",
      "\u001b[1;32m<ipython-input-6-24e1ea553d21>\u001b[0m in \u001b[0;36m<module>\u001b[1;34m\u001b[0m\n\u001b[1;32m----> 1\u001b[1;33m \u001b[0msim\u001b[0m\u001b[1;33m.\u001b[0m\u001b[0mfullwave\u001b[0m\u001b[1;33m.\u001b[0m\u001b[0minit_sim\u001b[0m\u001b[1;33m(\u001b[0m\u001b[0mprop_dis\u001b[0m\u001b[1;33m,\u001b[0m \u001b[0mN\u001b[0m\u001b[1;33m,\u001b[0m \u001b[0mwgs\u001b[0m\u001b[1;33m,\u001b[0m \u001b[0mres\u001b[0m \u001b[1;33m=\u001b[0m \u001b[1;36m40\u001b[0m\u001b[1;33m)\u001b[0m\u001b[1;33m\u001b[0m\u001b[1;33m\u001b[0m\u001b[0m\n\u001b[0m",
      "\u001b[1;31mNameError\u001b[0m: name 'prop_dis' is not defined"
     ]
    }
   ],
   "source": [
    "sim.fullwave.init_sim(prop_dis, N, wgs, res = 40)"
   ]
  },
  {
   "cell_type": "code",
   "execution_count": null,
   "metadata": {},
   "outputs": [],
   "source": [
    "#upload the initualized sim to the sever. \n",
    "sim.fullwave.upload(task_name=\"3_wgs\")"
   ]
  },
  {
   "cell_type": "code",
   "execution_count": null,
   "metadata": {},
   "outputs": [],
   "source": [
    "#download the results to local once done.\n",
    "sim.fullwave.download(data_path=\"output_tidy3d/\")"
   ]
  },
  {
   "cell_type": "code",
   "execution_count": null,
   "metadata": {
    "scrolled": false
   },
   "outputs": [],
   "source": [
    "#wave goes up down.\n",
    "Ey_xz_raw, data_near, data_far = sim.fullwave.vis_monitor()"
   ]
  },
  {
   "cell_type": "markdown",
   "metadata": {},
   "source": [
    "# gen library for PBA design"
   ]
  },
  {
   "cell_type": "code",
   "execution_count": null,
   "metadata": {},
   "outputs": [],
   "source": [
    "sim.PBA.gen_lib()"
   ]
  },
  {
   "cell_type": "code",
   "execution_count": 10,
   "metadata": {},
   "outputs": [],
   "source": [
    "wgs_path = \"PBA_lens_N20_lam0.59um.npy\"\n",
    "N = 20\n",
    "NA = 0.8\n",
    "theta = 0\n",
    "prop_dis = 0.5 * N * GP['period'] * np.sqrt((1 - NA**2)/NA**2)\n",
    "wgs = np.load(wgs_path)"
   ]
  },
  {
   "cell_type": "code",
   "execution_count": 11,
   "metadata": {},
   "outputs": [
    {
     "name": "stdout",
     "output_type": "stream",
     "text": [
      "coo_sparse generated.\n",
      "coo_sparse generated.\n",
      "dis model input generated.\n",
      "initial widths larger than h_max, replaced by h_max\n",
      "initialized by loaded h_paras.\n"
     ]
    },
    {
     "data": {
      "image/png": "[encoded data removed]",
      "text/plain": [
       "<Figure size 864x432 with 2 Axes>"
      ]
     },
     "metadata": {
      "needs_background": "light"
     },
     "output_type": "display_data"
    }
   ],
   "source": [
    "sim.scmt.init_model(N, prop_dis, COUPLING = True, init_hs= wgs, far_field= False)\n",
    "E_out =sim.scmt.forward(theta = theta)\n",
    "sim.scmt.vis_field(E_out)\n",
    "E_scmt = E_out"
   ]
  },
  {
   "cell_type": "code",
   "execution_count": 12,
   "metadata": {},
   "outputs": [
    {
     "name": "stdout",
     "output_type": "stream",
     "text": [
      "coo_sparse generated.\n",
      "coo_sparse generated.\n",
      "dis model input generated.\n",
      "initial widths larger than h_max, replaced by h_max\n",
      "initialized by loaded h_paras.\n"
     ]
    },
    {
     "name": "stderr",
     "output_type": "stream",
     "text": [
      "C:/Users/94735/OneDrive - UW-Madison/My Projects/CMT_and_inverse_design/Meta_SCMT\\Meta_SCMT\\SCMT_1D.py:197: UserWarning: bad initial widths for waveguides.\n",
      "  warnings.warn(\"bad initial widths for waveguides.\")\n"
     ]
    },
    {
     "data": {
      "image/png": "[encoded data removed]",
      "text/plain": [
       "<Figure size 432x288 with 1 Axes>"
      ]
     },
     "metadata": {
      "needs_background": "light"
     },
     "output_type": "display_data"
    }
   ],
   "source": [
    "sim.scmt.init_model(N, prop_dis, COUPLING = True, init_hs= wgs, far_field= True)\n",
    "E_out =sim.scmt.forward(theta = theta)\n",
    "sim.scmt.vis_field(E_out)"
   ]
  },
  {
   "cell_type": "markdown",
   "metadata": {},
   "source": [
    "# fullwave"
   ]
  },
  {
   "cell_type": "code",
   "execution_count": null,
   "metadata": {},
   "outputs": [],
   "source": [
    "sim.fullwave.init_sim(prop_dis, N, wgs, res = 50, theta = theta)"
   ]
  },
  {
   "cell_type": "code",
   "execution_count": null,
   "metadata": {},
   "outputs": [],
   "source": [
    "sim.fullwave.upload(task_name=\"1D_lens_N20\")\n",
    "sim.fullwave.download(data_path=\"output_tidy3d/\")"
   ]
  },
  {
   "cell_type": "code",
   "execution_count": null,
   "metadata": {},
   "outputs": [],
   "source": [
    "Ey_xz_raw, data_near, data_far = sim.fullwave.vis_monitor()"
   ]
  },
  {
   "cell_type": "code",
   "execution_count": null,
   "metadata": {},
   "outputs": [],
   "source": [
    "def get_phase_offset(E1, E2):\n",
    "    L2_dis = np.inf\n",
    "    theta_opt = 0\n",
    "    for theta in np.linspace(0, 2 * np.pi, 300):\n",
    "        E_temp = E1 * np.exp(1j * theta)\n",
    "        phase_temp = np.angle(E_temp)\n",
    "        phase2 = np.angle(E2)\n",
    "        dis_temp = ((phase_temp - phase2)**2).sum()\n",
    "        if dis_temp < L2_dis:\n",
    "            L2_dis = dis_temp\n",
    "            theta_opt = theta\n",
    "    print(\"minimum phase l2 dis:\", L2_dis)\n",
    "    return theta_opt"
   ]
  },
  {
   "cell_type": "code",
   "execution_count": null,
   "metadata": {},
   "outputs": [],
   "source": [
    "E_fullwave = data_near['Ey']\n",
    "b = 50\n",
    "ph1_offset = get_phase_offset(E_scmt[b:-b], E_fullwave[b:-b])"
   ]
  },
  {
   "cell_type": "code",
   "execution_count": null,
   "metadata": {},
   "outputs": [],
   "source": [
    "plt.figure(figsize = (20, 10))\n",
    "plt.plot(np.angle(E_scmt * np.exp(1j * ph1_offset)))\n",
    "plt.plot(np.angle(E_fullwave))"
   ]
  },
  {
   "cell_type": "markdown",
   "metadata": {},
   "source": [
    "# the phase of fullwave"
   ]
  },
  {
   "cell_type": "code",
   "execution_count": null,
   "metadata": {},
   "outputs": [],
   "source": [
    "fw_phase = np.flip(np.angle(Ey_xz_raw), axis = 0)"
   ]
  },
  {
   "cell_type": "code",
   "execution_count": null,
   "metadata": {},
   "outputs": [],
   "source": [
    "import plotly.express as px"
   ]
  },
  {
   "cell_type": "code",
   "execution_count": null,
   "metadata": {},
   "outputs": [],
   "source": [
    "fig = px.imshow(fw_phase)\n",
    "fig.show()"
   ]
  },
  {
   "cell_type": "code",
   "execution_count": null,
   "metadata": {},
   "outputs": [],
   "source": [
    "fw_phase.shape"
   ]
  },
  {
   "cell_type": "code",
   "execution_count": null,
   "metadata": {},
   "outputs": [],
   "source": [
    "20 *20"
   ]
  },
  {
   "cell_type": "code",
   "execution_count": null,
   "metadata": {},
   "outputs": [],
   "source": []
  }
 ],
 "metadata": {
  "kernelspec": {
   "display_name": "Python 3",
   "language": "python",
   "name": "python3"
  },
  "language_info": {
   "codemirror_mode": {
    "name": "ipython",
    "version": 3
   },
   "file_extension": ".py",
   "mimetype": "text/x-python",
   "name": "python",
   "nbconvert_exporter": "python",
   "pygments_lexer": "ipython3",
   "version": "3.8.5"
  }
 },
 "nbformat": 4,
 "nbformat_minor": 4
}
